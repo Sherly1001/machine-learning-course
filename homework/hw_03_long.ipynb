{
 "cells": [
  {
   "cell_type": "markdown",
   "metadata": {},
   "source": [
    "# Homework 3: Logistics Regression\n",
    "Implement everywhere that has an ellipsis (`...`)."
   ]
  },
  {
   "cell_type": "code",
   "execution_count": 1,
   "metadata": {},
   "outputs": [],
   "source": [
    "import numpy as np"
   ]
  },
  {
   "cell_type": "markdown",
   "metadata": {},
   "source": [
    "### Load dataset"
   ]
  },
  {
   "cell_type": "code",
   "execution_count": 2,
   "metadata": {},
   "outputs": [],
   "source": [
    "from sklearn.datasets import load_iris\n",
    "data = load_iris()\n",
    "X, Y = data.data, data.target"
   ]
  },
  {
   "cell_type": "code",
   "execution_count": 3,
   "metadata": {},
   "outputs": [],
   "source": [
    "# only classify class 1 vs. class 2\n",
    "idx = Y > 0\n",
    "X = X[idx]\n",
    "Y = Y[idx]"
   ]
  },
  {
   "cell_type": "markdown",
   "metadata": {},
   "source": [
    "### Data normalization\n",
    "Remember: normalization is done per feature, not all at once. Also, remember that Y is [1, 2] instead of [0, 1]."
   ]
  },
  {
   "cell_type": "code",
   "execution_count": 4,
   "metadata": {},
   "outputs": [],
   "source": [
    "# Write your code here. Don't forget the bias!\n",
    "# X = (X - np.min(X, axis = 0)) / (np.max(X, axis = 0) - np.min(X, axis = 0)) # only 0.93 :v :v\n",
    "X = (X - np.mean(X, axis = 0)) / np.std(X, axis = 0)\n",
    "X = np.hstack([np.ones((X.shape[0], 1)), X])\n",
    "Y = Y - 1"
   ]
  },
  {
   "cell_type": "markdown",
   "metadata": {},
   "source": [
    "### Define classification model\n",
    "Create parameters here. Initialize with zeros. In case you forgot: $Y = \\sigma(X\\Theta)$."
   ]
  },
  {
   "cell_type": "code",
   "execution_count": 5,
   "metadata": {},
   "outputs": [],
   "source": [
    "weight = np.zeros(X.shape[1])"
   ]
  },
  {
   "cell_type": "markdown",
   "metadata": {},
   "source": [
    "### Define evaluation metrics"
   ]
  },
  {
   "cell_type": "code",
   "execution_count": 6,
   "metadata": {},
   "outputs": [],
   "source": [
    "sigmoid = lambda s: 1 / (1 + np.exp(-s))\n",
    "hyp = lambda x, w: sigmoid(x @ w)"
   ]
  },
  {
   "cell_type": "code",
   "execution_count": 7,
   "metadata": {},
   "outputs": [],
   "source": [
    "def accuracy(X, Y, weight):\n",
    "    '''\n",
    "    Evaluate the model, represented by `weight`, with data (X, Y).\n",
    "    \n",
    "    Input:\n",
    "        X:      data features\n",
    "        Y:      data labels\n",
    "        weight: model weights\n",
    "    Ouput:\n",
    "        Model accuracy on input data.\n",
    "    '''\n",
    "    \n",
    "    # implement your code here\n",
    "    acc = np.where(np.where(hyp(X, weight) <= 0.5, 0, 1) == Y, 1, 0)\n",
    "    return np.sum(acc) / acc.size"
   ]
  },
  {
   "cell_type": "markdown",
   "metadata": {},
   "source": [
    "### Hyperparameters"
   ]
  },
  {
   "cell_type": "code",
   "execution_count": 8,
   "metadata": {},
   "outputs": [],
   "source": [
    "# learning rate\n",
    "alpha = 1e-2\n",
    "# epochs\n",
    "epoch = 10000"
   ]
  },
  {
   "cell_type": "markdown",
   "metadata": {},
   "source": [
    "### Train the model."
   ]
  },
  {
   "cell_type": "code",
   "execution_count": 9,
   "metadata": {},
   "outputs": [],
   "source": [
    "# your code here\n",
    "def logistic_reg(X, Y, alpha, epoch):\n",
    "    w = np.zeros(X.shape[1])\n",
    "    for _ in range(epoch):\n",
    "        w -= alpha * (X.T @ (hyp(X, w) - Y)) / Y.size\n",
    "    return w"
   ]
  },
  {
   "cell_type": "code",
   "execution_count": 10,
   "metadata": {},
   "outputs": [
    {
     "data": {
      "text/plain": [
       "array([ 0.12047504, -0.44156746, -0.89309501,  2.965364  ,  3.3427994 ])"
      ]
     },
     "execution_count": 10,
     "metadata": {},
     "output_type": "execute_result"
    }
   ],
   "source": [
    "weight = logistic_reg(X, Y, alpha, epoch); weight"
   ]
  },
  {
   "cell_type": "code",
   "execution_count": 11,
   "metadata": {},
   "outputs": [],
   "source": [
    "# just to double check\n",
    "assert np.allclose(weight, np.array([0.12047504, -0.44156746, -0.89309501, 2.965364, 3.3427994]))"
   ]
  },
  {
   "cell_type": "code",
   "execution_count": 12,
   "metadata": {},
   "outputs": [
    {
     "data": {
      "text/plain": [
       "0.96"
      ]
     },
     "execution_count": 12,
     "metadata": {},
     "output_type": "execute_result"
    }
   ],
   "source": [
    "# model accuracy\n",
    "accuracy(X, Y, weight)"
   ]
  },
  {
   "cell_type": "markdown",
   "metadata": {},
   "source": [
    "### (Optional) How low can you go?\n",
    "Do anything you want to get the best performance out of the training set. For once, let's overfit to your heart's content."
   ]
  },
  {
   "cell_type": "code",
   "execution_count": 13,
   "metadata": {},
   "outputs": [],
   "source": [
    "# do some fun code here and try to match this :)\n",
    "X, Y = data.data, data.target\n",
    "\n",
    "idx = Y < 2\n",
    "X = X[idx]\n",
    "Y = Y[idx]\n",
    "\n",
    "X = (X - np.mean(X, axis = 0)) / np.std(X, axis = 0)\n",
    "X = np.hstack([np.ones((X.shape[0], 1)), X])\n",
    "weight = logistic_reg(X, Y, alpha, epoch)"
   ]
  },
  {
   "cell_type": "code",
   "execution_count": 14,
   "metadata": {},
   "outputs": [
    {
     "name": "stdout",
     "output_type": "stream",
     "text": [
      "Weights: [ 0.15814601  1.16186951 -1.62065483  2.04797938  2.06108661]\n",
      "Loss: 0.005893840569123219\n",
      "Accuracy: 1.0\n"
     ]
    }
   ],
   "source": [
    "print('Weights:', weight)\n",
    "y = 1 / (1 + np.exp(-X @ weight))\n",
    "loss = -np.sum(Y * np.log(y) + (1 - Y) * np.log(1 - y)) / y.size\n",
    "print('Loss:', loss)\n",
    "print('Accuracy:', accuracy(X, Y, weight))"
   ]
  },
  {
   "cell_type": "code",
   "execution_count": null,
   "metadata": {},
   "outputs": [],
   "source": []
  }
 ],
 "metadata": {
  "kernelspec": {
   "display_name": "Python 3",
   "language": "python",
   "name": "python3"
  },
  "language_info": {
   "codemirror_mode": {
    "name": "ipython",
    "version": 3
   },
   "file_extension": ".py",
   "mimetype": "text/x-python",
   "name": "python",
   "nbconvert_exporter": "python",
   "pygments_lexer": "ipython3",
   "version": "3.8.6"
  }
 },
 "nbformat": 4,
 "nbformat_minor": 4
}
